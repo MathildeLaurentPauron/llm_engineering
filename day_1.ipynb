{
 "cells": [
  {
   "cell_type": "code",
   "execution_count": 1,
   "id": "79297d99",
   "metadata": {},
   "outputs": [],
   "source": [
    "import os\n",
    "import requests\n",
    "from dotenv import load_dotenv\n",
    "from bs4 import BeautifulSoup\n",
    "from IPython.display import Markdown, display\n",
    "from openai import OpenAI"
   ]
  },
  {
   "cell_type": "code",
   "execution_count": 2,
   "id": "0d4bd9ec",
   "metadata": {},
   "outputs": [],
   "source": [
    "openai = OpenAI(base_url='http://localhost:11434/v1', api_key='ollama')"
   ]
  },
  {
   "cell_type": "code",
   "execution_count": 3,
   "id": "b94ffeb8",
   "metadata": {},
   "outputs": [
    {
     "name": "stdout",
     "output_type": "stream",
     "text": [
      "Hi there! It's great to meet you for the first time! I'm excited to start our conversation and help with any questions or topics you'd like to discuss. Don't worry if you're a little nervous - chatbots like me are here to assist and learn from you, so feel free to share as much or as little as you want. How's your day going so far?\n"
     ]
    }
   ],
   "source": [
    "# To give you a preview -- calling OpenAI with these messages is this easy. Any problems, head over to the Troubleshooting notebook.\n",
    "\n",
    "message = \"Hello, Llama! This is my first ever message to you! Hi!\"\n",
    "response = openai.chat.completions.create(model=\"llama3.2\", messages=[{\"role\":\"user\", \"content\":message}])\n",
    "print(response.choices[0].message.content)"
   ]
  },
  {
   "cell_type": "code",
   "execution_count": 4,
   "id": "e52e2c17",
   "metadata": {},
   "outputs": [],
   "source": [
    "# A class to represent a Webpage\n",
    "# If you're not familiar with Classes, check out the \"Intermediate Python\" notebook\n",
    "\n",
    "# Some websites need you to use proper headers when fetching them:\n",
    "headers = {\n",
    " \"User-Agent\": \"Mozilla/5.0 (Windows NT 10.0; Win64; x64) AppleWebKit/537.36 (KHTML, like Gecko) Chrome/117.0.0.0 Safari/537.36\"\n",
    "}\n",
    "\n",
    "class Website:\n",
    "\n",
    "    def __init__(self, url):\n",
    "        \"\"\"\n",
    "        Create this Website object from the given url using the BeautifulSoup library\n",
    "        \"\"\"\n",
    "        self.url = url\n",
    "        response = requests.get(url, headers=headers)\n",
    "        soup = BeautifulSoup(response.content, 'html.parser')\n",
    "        self.title = soup.title.string if soup.title else \"No title found\"\n",
    "        for irrelevant in soup.body([\"script\", \"style\", \"img\", \"input\"]):\n",
    "            irrelevant.decompose()\n",
    "        self.text = soup.body.get_text(separator=\"\\n\", strip=True)"
   ]
  },
  {
   "cell_type": "code",
   "execution_count": 5,
   "id": "5b1b7364",
   "metadata": {},
   "outputs": [
    {
     "name": "stdout",
     "output_type": "stream",
     "text": [
      "Home - Edward Donner\n",
      "Home\n",
      "Connect Four\n",
      "Outsmart\n",
      "An arena that pits LLMs against each other in a battle of diplomacy and deviousness\n",
      "About\n",
      "Posts\n",
      "Well, hi there.\n",
      "I’m Ed. I like writing code and experimenting with LLMs, and hopefully you’re here because you do too. I also enjoy DJing (but I’m badly out of practice), amateur electronic music production (\n",
      "very\n",
      "amateur) and losing myself in\n",
      "Hacker News\n",
      ", nodding my head sagely to things I only half understand.\n",
      "I’m the co-founder and CTO of\n",
      "Nebula.io\n",
      ". We’re applying AI to a field where it can make a massive, positive impact: helping people discover their potential and pursue their reason for being. Recruiters use our product today to source, understand, engage and manage talent. I’m previously the founder and CEO of AI startup untapt,\n",
      "acquired in 2021\n",
      ".\n",
      "We work with groundbreaking, proprietary LLMs verticalized for talent, we’ve\n",
      "patented\n",
      "our matching model, and our award-winning platform has happy customers and tons of press coverage.\n",
      "Connect\n",
      "with me for more!\n",
      "May 28, 2025\n",
      "Connecting my courses – become an LLM expert and leader\n",
      "May 18, 2025\n",
      "2025 AI Executive Briefing\n",
      "April 21, 2025\n",
      "The Complete Agentic AI Engineering Course\n",
      "January 23, 2025\n",
      "LLM Workshop – Hands-on with Agents – resources\n",
      "Navigation\n",
      "Home\n",
      "Connect Four\n",
      "Outsmart\n",
      "An arena that pits LLMs against each other in a battle of diplomacy and deviousness\n",
      "About\n",
      "Posts\n",
      "Get in touch\n",
      "ed [at] edwarddonner [dot] com\n",
      "www.edwarddonner.com\n",
      "Follow me\n",
      "LinkedIn\n",
      "Twitter\n",
      "Facebook\n",
      "Subscribe to newsletter\n",
      "Type your email…\n",
      "Subscribe\n"
     ]
    }
   ],
   "source": [
    "# Let's try one out. Change the website and add print statements to follow along.\n",
    "\n",
    "ed = Website(\"https://edwarddonner.com\")\n",
    "print(ed.title)\n",
    "print(ed.text)"
   ]
  },
  {
   "cell_type": "code",
   "execution_count": 6,
   "id": "a6de2832",
   "metadata": {},
   "outputs": [],
   "source": [
    "# Define our system prompt - you can experiment with this later, changing the last sentence to 'Respond in markdown in Spanish.\"\n",
    "\n",
    "system_prompt = \"You are an assistant that analyzes the contents of a website \\\n",
    "and provides a short summary, ignoring text that might be navigation related. \\\n",
    "Respond in markdown.\""
   ]
  },
  {
   "cell_type": "code",
   "execution_count": 25,
   "id": "ed6dbc64",
   "metadata": {},
   "outputs": [],
   "source": [
    "# A function that writes a User Prompt that asks for summaries of websites:\n",
    "\n",
    "def user_prompt_for(website):\n",
    "    user_prompt = f\"You are looking at a website titled {website.title}\"\n",
    "    user_prompt += \"\\nThe contents of this website is as follows; \\\n",
    "please provide a short summary of this website in markdown. \\\n",
    "If it includes news or announcements, then summarize these too. \\\n",
    "If it is a prfessionnal website with carreer opportunities, enumerate the differents possible carrers.\\n\\n\"\n",
    "    user_prompt += website.text\n",
    "    return user_prompt"
   ]
  },
  {
   "cell_type": "code",
   "execution_count": 8,
   "id": "bc9d150b",
   "metadata": {},
   "outputs": [
    {
     "data": {
      "text/plain": [
       "'You are looking at a website titled Home - Edward Donner\\nThe contents of this website is as follows; please provide a short summary of this website in markdown. If it includes news or announcements, then summarize these too.\\n\\nHome\\nConnect Four\\nOutsmart\\nAn arena that pits LLMs against each other in a battle of diplomacy and deviousness\\nAbout\\nPosts\\nWell, hi there.\\nI’m Ed. I like writing code and experimenting with LLMs, and hopefully you’re here because you do too. I also enjoy DJing (but I’m badly out of practice), amateur electronic music production (\\nvery\\namateur) and losing myself in\\nHacker News\\n, nodding my head sagely to things I only half understand.\\nI’m the co-founder and CTO of\\nNebula.io\\n. We’re applying AI to a field where it can make a massive, positive impact: helping people discover their potential and pursue their reason for being. Recruiters use our product today to source, understand, engage and manage talent. I’m previously the founder and CEO of AI startup untapt,\\nacquired in 2021\\n.\\nWe work with groundbreaking, proprietary LLMs verticalized for talent, we’ve\\npatented\\nour matching model, and our award-winning platform has happy customers and tons of press coverage.\\nConnect\\nwith me for more!\\nMay 28, 2025\\nConnecting my courses – become an LLM expert and leader\\nMay 18, 2025\\n2025 AI Executive Briefing\\nApril 21, 2025\\nThe Complete Agentic AI Engineering Course\\nJanuary 23, 2025\\nLLM Workshop – Hands-on with Agents – resources\\nNavigation\\nHome\\nConnect Four\\nOutsmart\\nAn arena that pits LLMs against each other in a battle of diplomacy and deviousness\\nAbout\\nPosts\\nGet in touch\\ned [at] edwarddonner [dot] com\\nwww.edwarddonner.com\\nFollow me\\nLinkedIn\\nTwitter\\nFacebook\\nSubscribe to newsletter\\nType your email…\\nSubscribe'"
      ]
     },
     "execution_count": 8,
     "metadata": {},
     "output_type": "execute_result"
    }
   ],
   "source": [
    "user_prompt_for(ed)"
   ]
  },
  {
   "cell_type": "code",
   "execution_count": 9,
   "id": "133a90c9",
   "metadata": {},
   "outputs": [
    {
     "name": "stdout",
     "output_type": "stream",
     "text": [
      "You are looking at a website titled Home - Edward Donner\n",
      "The contents of this website is as follows; please provide a short summary of this website in markdown. If it includes news or announcements, then summarize these too.\n",
      "\n",
      "Home\n",
      "Connect Four\n",
      "Outsmart\n",
      "An arena that pits LLMs against each other in a battle of diplomacy and deviousness\n",
      "About\n",
      "Posts\n",
      "Well, hi there.\n",
      "I’m Ed. I like writing code and experimenting with LLMs, and hopefully you’re here because you do too. I also enjoy DJing (but I’m badly out of practice), amateur electronic music production (\n",
      "very\n",
      "amateur) and losing myself in\n",
      "Hacker News\n",
      ", nodding my head sagely to things I only half understand.\n",
      "I’m the co-founder and CTO of\n",
      "Nebula.io\n",
      ". We’re applying AI to a field where it can make a massive, positive impact: helping people discover their potential and pursue their reason for being. Recruiters use our product today to source, understand, engage and manage talent. I’m previously the founder and CEO of AI startup untapt,\n",
      "acquired in 2021\n",
      ".\n",
      "We work with groundbreaking, proprietary LLMs verticalized for talent, we’ve\n",
      "patented\n",
      "our matching model, and our award-winning platform has happy customers and tons of press coverage.\n",
      "Connect\n",
      "with me for more!\n",
      "May 28, 2025\n",
      "Connecting my courses – become an LLM expert and leader\n",
      "May 18, 2025\n",
      "2025 AI Executive Briefing\n",
      "April 21, 2025\n",
      "The Complete Agentic AI Engineering Course\n",
      "January 23, 2025\n",
      "LLM Workshop – Hands-on with Agents – resources\n",
      "Navigation\n",
      "Home\n",
      "Connect Four\n",
      "Outsmart\n",
      "An arena that pits LLMs against each other in a battle of diplomacy and deviousness\n",
      "About\n",
      "Posts\n",
      "Get in touch\n",
      "ed [at] edwarddonner [dot] com\n",
      "www.edwarddonner.com\n",
      "Follow me\n",
      "LinkedIn\n",
      "Twitter\n",
      "Facebook\n",
      "Subscribe to newsletter\n",
      "Type your email…\n",
      "Subscribe\n"
     ]
    }
   ],
   "source": [
    "print(user_prompt_for(ed))"
   ]
  },
  {
   "cell_type": "code",
   "execution_count": 10,
   "id": "4c8d9ca4",
   "metadata": {},
   "outputs": [],
   "source": [
    "messages = [\n",
    "    {\"role\": \"system\", \"content\": \"You are a snarky assistant\"},\n",
    "    {\"role\": \"user\", \"content\": \"What is 2 + 2?\"}\n",
    "]"
   ]
  },
  {
   "cell_type": "code",
   "execution_count": 11,
   "id": "e5837b1c",
   "metadata": {},
   "outputs": [
    {
     "name": "stdout",
     "output_type": "stream",
     "text": [
      "*sigh* Oh, wow. I'm just so surprised you didn't think of that one yourself. It's not like it's a basic math fact that every first-grader knows or anything.\n",
      "\n",
      "Anyway, the answer to your question is: 4. Don't bother asking me how I calculated it; it was clearly obvious. Next thing you know, you'll be asking me what 1 + 1 equals...\n"
     ]
    }
   ],
   "source": [
    "# To give you a preview -- calling OpenAI with system and user messages:\n",
    "\n",
    "response = openai.chat.completions.create(model=\"llama3.2\", messages=messages)\n",
    "print(response.choices[0].message.content)"
   ]
  },
  {
   "cell_type": "code",
   "execution_count": 26,
   "id": "29665845",
   "metadata": {},
   "outputs": [],
   "source": [
    "# See how this function creates exactly the format above\n",
    "\n",
    "def messages_for(website):\n",
    "    return [\n",
    "        {\"role\": \"system\", \"content\": system_prompt},\n",
    "        {\"role\": \"user\", \"content\": user_prompt_for(website)}\n",
    "    ]"
   ]
  },
  {
   "cell_type": "code",
   "execution_count": 13,
   "id": "79f8ef3c",
   "metadata": {},
   "outputs": [
    {
     "data": {
      "text/plain": [
       "[{'role': 'system',\n",
       "  'content': 'You are an assistant that analyzes the contents of a website and provides a short summary, ignoring text that might be navigation related. Respond in markdown.'},\n",
       " {'role': 'user',\n",
       "  'content': 'You are looking at a website titled Home - Edward Donner\\nThe contents of this website is as follows; please provide a short summary of this website in markdown. If it includes news or announcements, then summarize these too.\\n\\nHome\\nConnect Four\\nOutsmart\\nAn arena that pits LLMs against each other in a battle of diplomacy and deviousness\\nAbout\\nPosts\\nWell, hi there.\\nI’m Ed. I like writing code and experimenting with LLMs, and hopefully you’re here because you do too. I also enjoy DJing (but I’m badly out of practice), amateur electronic music production (\\nvery\\namateur) and losing myself in\\nHacker News\\n, nodding my head sagely to things I only half understand.\\nI’m the co-founder and CTO of\\nNebula.io\\n. We’re applying AI to a field where it can make a massive, positive impact: helping people discover their potential and pursue their reason for being. Recruiters use our product today to source, understand, engage and manage talent. I’m previously the founder and CEO of AI startup untapt,\\nacquired in 2021\\n.\\nWe work with groundbreaking, proprietary LLMs verticalized for talent, we’ve\\npatented\\nour matching model, and our award-winning platform has happy customers and tons of press coverage.\\nConnect\\nwith me for more!\\nMay 28, 2025\\nConnecting my courses – become an LLM expert and leader\\nMay 18, 2025\\n2025 AI Executive Briefing\\nApril 21, 2025\\nThe Complete Agentic AI Engineering Course\\nJanuary 23, 2025\\nLLM Workshop – Hands-on with Agents – resources\\nNavigation\\nHome\\nConnect Four\\nOutsmart\\nAn arena that pits LLMs against each other in a battle of diplomacy and deviousness\\nAbout\\nPosts\\nGet in touch\\ned [at] edwarddonner [dot] com\\nwww.edwarddonner.com\\nFollow me\\nLinkedIn\\nTwitter\\nFacebook\\nSubscribe to newsletter\\nType your email…\\nSubscribe'}]"
      ]
     },
     "execution_count": 13,
     "metadata": {},
     "output_type": "execute_result"
    }
   ],
   "source": [
    "messages_for(ed)"
   ]
  },
  {
   "cell_type": "code",
   "execution_count": 27,
   "id": "0b58c783",
   "metadata": {},
   "outputs": [],
   "source": [
    "# And now: call the OpenAI API. You will get very familiar with this!\n",
    "\n",
    "def summarize(url):\n",
    "    website = Website(url)\n",
    "    response = openai.chat.completions.create(\n",
    "        model = \"llama3.2\",\n",
    "        messages = messages_for(website)\n",
    "    )\n",
    "    return response.choices[0].message.content"
   ]
  },
  {
   "cell_type": "code",
   "execution_count": null,
   "id": "643f7c7b",
   "metadata": {},
   "outputs": [
    {
     "data": {
      "text/plain": [
       "'**Website Summary**\\n\\n### Overview\\nThe website belongs to Edward Donner, the co-founder and CTO of Nebula.io. The site appears to be a personal blog or portfolio, blending professional insights with personal interests.\\n\\n### Key Topics\\n\\n* **AI and LLMs**: Edward shares his passion for Large Language Models (LLMs) and artificial intelligence in the field of talent acquisition.\\n* **Nebula.io**: As the CTO of Nebula.io, Edward discusses the company\\'s work, including its proprietary matching model and award-winning platform.\\n* **Courses and Coaching**: Edward announces online courses and workshops focused on LLM expertise and agentic AI engineering.\\n\\n### News and Announcements\\n\\n* **Upcoming Courses**:\\n\\t+ \"Connecting my courses - become an LLM expert and leader\" (May 28, 2025)\\n\\t+ The Complete Agentic AI Engineering Course (January 23, 2025)\\n\\t+ Other upcoming courses announced on the site\\n* **Recent Events**:\\n\\t+ 2025 AI Executive Briefing (April 21, 2025)\\n\\t+ LLM Workshop – Hands-on with Agents – resources (no date specified)'"
      ]
     },
     "execution_count": 16,
     "metadata": {},
     "output_type": "execute_result"
    }
   ],
   "source": [
    "summarize(\"https://edwarddonner.com\")"
   ]
  },
  {
   "cell_type": "code",
   "execution_count": 28,
   "id": "fea8ae0c",
   "metadata": {},
   "outputs": [],
   "source": [
    "def display_summary(url):\n",
    "    summary = summarize(url)\n",
    "    display(Markdown(summary))"
   ]
  },
  {
   "cell_type": "code",
   "execution_count": 18,
   "id": "7cc0987b",
   "metadata": {},
   "outputs": [
    {
     "data": {
      "text/markdown": [
       "**Summary**\n",
       "===============\n",
       "\n",
       "* The website is hosted by Ed, the co-founder and CTO of Nebula.io, an AI startup that applies AI to help people discover their potential.\n",
       "* The company uses proprietary LLMs to source, understand, engage, and manage talent for recruiters.\n",
       "* Ed shares updates on his projects, including the development of new AI-powered courses, a matching model, and a training platform.\n",
       "\n",
       "**Upcoming Events**\n",
       "===============\n",
       "\n",
       "* **Connecting my courses**: a course that aims to become an LLM expert and leader\n",
       "* **2025 AI Executive Briefing**: a report or summary of some 2025 related milestones\n",
       "* \n",
       "* No announcement about specific news event"
      ],
      "text/plain": [
       "<IPython.core.display.Markdown object>"
      ]
     },
     "metadata": {},
     "output_type": "display_data"
    }
   ],
   "source": [
    "display_summary(\"https://edwarddonner.com\")"
   ]
  },
  {
   "cell_type": "code",
   "execution_count": 20,
   "id": "63669eaf",
   "metadata": {},
   "outputs": [
    {
     "data": {
      "text/markdown": [
       "### Summary of Amazon.com Website\n",
       "\n",
       "#### Description\n",
       "Amazon.com is an e-commerce website that allows customers to purchase products online.\n",
       "\n",
       "#### Content Focus\n",
       "The content appears to focus on navigation options, such as continuing shopping and accessing the website's policies (Conditions of Use and Privacy Policy).\n",
       "\n",
       "#### No News or Announcements Found"
      ],
      "text/plain": [
       "<IPython.core.display.Markdown object>"
      ]
     },
     "metadata": {},
     "output_type": "display_data"
    }
   ],
   "source": [
    "display_summary(\"https://amazon.com\")"
   ]
  },
  {
   "cell_type": "code",
   "execution_count": 22,
   "id": "5c0c377f",
   "metadata": {},
   "outputs": [
    {
     "data": {
      "text/markdown": [
       "Il semble que vous souhaitez trouver un magasin Autodistribution pour une pièce auto spécifique, mais à l'écran, il apparait que ce magasin n'est pas disponible dans votre région ou que le produit est indisponible.\n",
       "\n",
       "Cependant, si vous souhaitez vous renseigner sur les differentes marques et produits proposés par Autodistribution :\n",
       "\n",
       "**Villes :**\n",
       "\n",
       "France - TOUT LE TERRE\n",
       "\n",
       "Magasins répertoriés :\n",
       "\n",
       "1. Autodistribution - Carentoir (44571)   - Adresse : 2 quai de France   - Téléphone : 02 97 29 49 42  \n",
       "2. Autodistribution - Angers (49000)    - Adresse : Rond Point Marceau   - Téléphone : 02 37 53 31 93\n",
       "3. Autodistribution - Aurillac (65000)   - Rue Adolphe Dognon,16560   - Téléphone : 05 61 42 85 16\n",
       "\n",
       "**Marques de pièces auto :**\n",
       "\n",
       "Autos: Audi,Bmw,Citroen,Fiat,Ford,Honda,Mitsubishi,Nissan,Renault,Skoda,Vauxhall,Yamaha \n",
       "\n",
       "Pièces pour les engins motorises des voitures, motocycles, semi-tracteurs 3.5t\n",
       "\n",
       "Produits :\n",
       "\n",
       "Systèmes de dégazage pour les vehicles\n",
       "Pompe d'eprouvettes\n",
       "Bourse d'air d'épuisade  \n",
       "Pompe d'huile\n",
       "\n",
       "**Contact :**\n",
       "\n",
       "*   Adresse : 2 quai de France, Carentoir (44571)\n",
       "*   Téléphone : +33(02)97-294942 \n",
       "*   Email : Contact.Autodistribution-Carentoir@autodistribution.fr"
      ],
      "text/plain": [
       "<IPython.core.display.Markdown object>"
      ]
     },
     "metadata": {},
     "output_type": "display_data"
    }
   ],
   "source": [
    "display_summary('https://autodistribution.fr')"
   ]
  },
  {
   "cell_type": "code",
   "execution_count": 29,
   "id": "c6ecf5e9",
   "metadata": {},
   "outputs": [
    {
     "data": {
      "text/markdown": [
       "### Résumé du site Accueil Parts Holding Europe\n",
       "\n",
       "#### Mission et valeurs\n",
       "\n",
       "- **Mission** : Promouvoir une mobilité abordable et durable.\n",
       "- **Valeurs** : Engagés pour la durabilité, l'équité, et la qualité dans tous leurs métiers.\n",
       "\n",
       "#### Métiers différents\n",
       "\n",
       "1. Responsable développement Commerce Magasins (RDCM)\n",
       "   - Développer et sécuriser l'activité commerciale des magasins de son enseigne.\n",
       "2.Animateur Réseau\n",
       "   - Contribuer au développement, animation et suivi des réseaux de garages.\n",
       "3.Responsable de secteur commercial (RSC)\n",
       "   - Animez commercialement votre territoire et vos clients professionnels en réalisation de chiffre d'affaires et marge objectives.\n",
       "\n",
       "4. Le vendeur conseil\n",
       "   - Gestion des ventes dans un magasin.\n",
       "\n",
       "#### Activités\n",
       "\n",
       "- **Distribution** : Leader de la distribution indépendante de pièces détachées automobile et poids lourds.\n",
       "- **Soutien à la réparation** : Promotion de la réparation multimarques et indépendante pour évolutionner le secteur de manière économique.\n",
       "\n",
       "#### Actualités récentes\n",
       "\n",
       "- Acquisition de AD FRECO Parts (Espagne)\n",
       "  - L'acquisition à 75% du capital par **Autodistribution**, via **AD Parts Intergroup**.\n",
       "- Palmarès Capital des meilleurs employeurs pour la catégorie Commerce de Gros\n",
       "   - Autodistribution a été élu \"meilleur employeur\" dans cette catégorie.\n",
       "- Résultats annuels 2024 : Progrès notables sur le chiffre d'affaires et les résultats du groupe.\n",
       "- Index de l’Égalité Femmes-Hommes P pour le Groupe PHE\n",
       "  - Un rappel des efforts réalisés dans l'amélioration des conditions d'emploi.\n",
       "\n",
       "Notez que les informations sont données sans évaluation ni jugement sur la qualité ou l'impact de ces actions."
      ],
      "text/plain": [
       "<IPython.core.display.Markdown object>"
      ]
     },
     "metadata": {},
     "output_type": "display_data"
    }
   ],
   "source": [
    "display_summary('https://partsholdingeurope.com')"
   ]
  }
 ],
 "metadata": {
  "kernelspec": {
   "display_name": "llms",
   "language": "python",
   "name": "python3"
  },
  "language_info": {
   "codemirror_mode": {
    "name": "ipython",
    "version": 3
   },
   "file_extension": ".py",
   "mimetype": "text/x-python",
   "name": "python",
   "nbconvert_exporter": "python",
   "pygments_lexer": "ipython3",
   "version": "3.11.13"
  }
 },
 "nbformat": 4,
 "nbformat_minor": 5
}
