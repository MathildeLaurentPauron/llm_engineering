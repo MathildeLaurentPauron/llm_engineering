{
 "cells": [
  {
   "cell_type": "code",
   "execution_count": 1,
   "id": "f748d882",
   "metadata": {},
   "outputs": [],
   "source": [
    "# imports\n",
    "\n",
    "import requests\n",
    "from bs4 import BeautifulSoup\n",
    "from IPython.display import Markdown, display"
   ]
  },
  {
   "cell_type": "code",
   "execution_count": 2,
   "id": "c8c57673",
   "metadata": {},
   "outputs": [],
   "source": [
    "# Constants\n",
    "\n",
    "OLLAMA_API = \"http://localhost:11434/api/chat\"\n",
    "HEADERS = {\"Content-Type\": \"application/json\"}\n",
    "MODEL = \"llama3.2\""
   ]
  },
  {
   "cell_type": "code",
   "execution_count": 3,
   "id": "9b365043",
   "metadata": {},
   "outputs": [],
   "source": [
    "# Create a messages list using the same format that we used for OpenAI\n",
    "\n",
    "messages = [\n",
    "    {\"role\": \"user\", \"content\": \"Describe some of the business applications of Generative AI\"}\n",
    "]"
   ]
  },
  {
   "cell_type": "code",
   "execution_count": 4,
   "id": "fa12103b",
   "metadata": {},
   "outputs": [],
   "source": [
    "payload = {\n",
    "        \"model\": MODEL,\n",
    "        \"messages\": messages,\n",
    "        \"stream\": False\n",
    "    }"
   ]
  },
  {
   "cell_type": "code",
   "execution_count": 5,
   "id": "c18a70b9",
   "metadata": {},
   "outputs": [
    {
     "name": "stdout",
     "output_type": "stream",
     "text": [
      "Generative AI has numerous business applications across various industries. Here are some examples:\n",
      "\n",
      "1. **Content Creation**: Generative AI can generate high-quality content such as articles, blog posts, social media posts, and even entire books. This can help businesses save time and resources, while also increasing the volume of content they produce.\n",
      "2. **Marketing and Advertising**: Generative AI can create personalized ads, product descriptions, and landing pages that resonate with specific customer segments. It can also generate social media content, product recommendations, and influencer outreach campaigns.\n",
      "3. **Customer Service and Support**: Generative AI-powered chatbots and virtual assistants can provide 24/7 customer support, answering common questions, routing complex issues to human representatives, and even generating responses to customer inquiries.\n",
      "4. **Graphic Design and Visual Content Creation**: Generative AI can create stunning visual content such as logos, infographics, images, and videos, saving designers time and resources.\n",
      "5. **Music Composition and Audio Post-Production**: Generative AI can compose music for films, TV shows, and advertisements, or even enhance existing audio tracks to create new sounds and textures.\n",
      "6. **Data Analysis and Visualization**: Generative AI can analyze large datasets and generate insights, visualizations, and predictions that help businesses make informed decisions.\n",
      "7. **Predictive Maintenance and Quality Control**: Generative AI can analyze sensor data from machines and predict when maintenance is required, reducing downtime and increasing efficiency.\n",
      "8. **Cybersecurity**: Generative AI-powered systems can detect and respond to cyber threats in real-time, identifying patterns and anomalies that may indicate a security breach.\n",
      "9. **Language Translation**: Generative AI can translate languages, enabling businesses to communicate with customers worldwide without language barriers.\n",
      "10. **Innovation and Research**: Generative AI can help researchers and innovators generate new ideas, simulate complex systems, and explore novel solutions to real-world problems.\n",
      "\n",
      "Some of the industries that are leveraging Generative AI include:\n",
      "\n",
      "1. Advertising and Marketing\n",
      "2. Media and Entertainment\n",
      "3. Healthcare and Pharmaceuticals\n",
      "4. Finance and Banking\n",
      "5. Retail and E-commerce\n",
      "6. Education and Research\n",
      "7. Manufacturing and Supply Chain Management\n",
      "8. Cybersecurity and Data Protection\n",
      "\n",
      "These are just a few examples of the many business applications of Generative AI. As the technology continues to evolve, we can expect to see even more innovative uses emerge in various industries.\n"
     ]
    }
   ],
   "source": [
    "response = requests.post(OLLAMA_API, json=payload, headers=HEADERS)\n",
    "print(response.json()['message']['content'])"
   ]
  },
  {
   "cell_type": "code",
   "execution_count": 6,
   "id": "700336b8",
   "metadata": {},
   "outputs": [
    {
     "name": "stdout",
     "output_type": "stream",
     "text": [
      "Generative AI has numerous business applications across various industries. Here are some examples:\n",
      "\n",
      "1. **Content Creation**: Generative AI can generate high-quality content such as:\n",
      " * Blog posts and articles\n",
      " * Social media posts and tweets\n",
      " * Product descriptions and sales copy\n",
      " * Music and audio tracks\n",
      " * Videos and animations\n",
      "2. **Marketing and Advertising**:\n",
      " * Personalized product recommendations\n",
      " * Customized ad creative (images, videos, and text)\n",
      " * Automated social media posting and scheduling\n",
      " * Content generation for influencer marketing campaigns\n",
      "3. **Customer Service**:\n",
      " * Chatbots that can generate responses to customer inquiries\n",
      " * Sentiment analysis and emotional intelligence\n",
      " * Personalized customer support content\n",
      "4. **Product Design and Development**:\n",
      " * Generative design of products, such as 3D models and prototypes\n",
      " * Automated product design optimization\n",
      " * Virtual try-on and augmented reality experiences\n",
      "5. **Supply Chain Management**:\n",
      " * Predictive maintenance and equipment monitoring\n",
      " * Demand forecasting and inventory management\n",
      " * Supply chain optimization and logistics planning\n",
      "6. **Finance and Risk Analysis**:\n",
      " * Credit scoring and risk assessment\n",
      " * Automated financial modeling and forecasting\n",
      " * Portfolio optimization and investment analysis\n",
      "7. **Healthcare and Medical Research**:\n",
      " * Patient data analysis and medical image generation\n",
      " * Personalized treatment plans and patient engagement\n",
      " * Clinical trial data analysis and predictive modeling\n",
      "8. **Education and Training**:\n",
      " * Personalized learning pathways and adaptive assessments\n",
      " * Automated grading and feedback\n",
      " * Virtual teaching assistants and educational content generation\n",
      "9. **Architecture and Real Estate**:\n",
      " * Generative architecture designs and building models\n",
      " * Property valuation and pricing predictions\n",
      " * Real estate marketing and advertising campaigns\n",
      "10. **Cybersecurity**:\n",
      " * Threat analysis and incident response\n",
      " * Predictive threat modeling and vulnerability assessment\n",
      " * Automated security policy generation\n",
      "\n",
      "These are just a few examples of the many business applications of Generative AI. As the technology continues to evolve, we can expect even more innovative use cases across various industries.\n"
     ]
    }
   ],
   "source": [
    "import ollama\n",
    "\n",
    "response = ollama.chat(model=MODEL, messages=messages)\n",
    "print(response['message']['content'])"
   ]
  },
  {
   "cell_type": "code",
   "execution_count": 9,
   "id": "8cc9552a",
   "metadata": {},
   "outputs": [],
   "source": [
    "messages_exercise = [\n",
    "    {\"role\": \"system\", \"content\": \"you are a culinary assistant, specialized in dessert\"},\n",
    "    {\"role\": \"user\", \"content\": \"get me an idea and the recip for a hot summer dessert after a barbecue\"}\n",
    "]"
   ]
  },
  {
   "cell_type": "code",
   "execution_count": 10,
   "id": "f15f8192",
   "metadata": {},
   "outputs": [
    {
     "name": "stdout",
     "output_type": "stream",
     "text": [
      "Perfect timing! I've got just the thing to help you beat the heat and satisfy your sweet tooth after a BBQ.\n",
      "\n",
      "Introducing... Peach Cobbler Bars with Bourbon Vanilla Ice Cream!\n",
      "\n",
      "These bars are a creative twist on the classic peach cobbler, with a crispy shortbread crust, a juicy peach filling, and a scoop of creamy bourbon vanilla ice cream. It's the perfect dessert to enjoy on a hot summer evening after a BBQ.\n",
      "\n",
      "**Recipe:**\n",
      "\n",
      "Ingredients:\n",
      "\n",
      "For the Shortbread Crust:\n",
      "\n",
      "* 1 1/2 cups all-purpose flour\n",
      "* 1/4 cup granulated sugar\n",
      "* 1/2 cup unsalted butter, softened\n",
      "\n",
      "For the Peach Filling:\n",
      "\n",
      "* 2 cups fresh or frozen peaches, sliced\n",
      "* 1/4 cup granulated sugar\n",
      "* 2 tablespoons cornstarch\n",
      "* 1 tablespoon lemon juice\n",
      "* 1/4 teaspoon salt\n",
      "\n",
      "For the Bourbon Vanilla Ice Cream:\n",
      "\n",
      "* 1 quart vanilla ice cream\n",
      "* 2 tablespoons bourbon whiskey (optional)\n",
      "\n",
      "Instructions:\n",
      "\n",
      "1. Preheat your oven to 375°F (190°C).\n",
      "2. Prepare the shortbread crust: In a medium bowl, whisk together flour and sugar. Add softened butter and mix until the dough comes together. Press the dough into a 9x13-inch baking dish.\n",
      "3. Prepare the peach filling: In a large bowl, combine sliced peaches, granulated sugar, cornstarch, lemon juice, and salt. Mix well to coat the peaches evenly.\n",
      "4. Assemble the bars: Pour the peach mixture over the shortbread crust. Bake for 35-40 minutes or until the fruit is tender and the topping is golden brown.\n",
      "5. Prepare the bourbon vanilla ice cream: Scoop the vanilla ice cream into bowls and drizzle with bourbon whiskey, if using.\n",
      "6. Serve: Cut the cobbler bars into squares and serve warm with a scoop of bourbon vanilla ice cream.\n",
      "\n",
      "**Tips and Variations:**\n",
      "\n",
      "* To add an extra layer of flavor, sprinkle some chopped pecans or walnuts on top of the shortbread crust before baking.\n",
      "* If you prefer a more intense peach flavor, use 3 cups of sliced peaches instead of 2.\n",
      "* For a grown-up twist, drizzle the cobbler bars with a caramel sauce made from heavy cream, butter, and sea salt.\n",
      "\n",
      "These Peach Cobbler Bars with Bourbon Vanilla Ice Cream are sure to be a hit at your next BBQ or summer gathering!\n"
     ]
    }
   ],
   "source": [
    "response = ollama.chat(model=MODEL, messages=messages_exercise)\n",
    "print(response['message']['content'])"
   ]
  }
 ],
 "metadata": {
  "kernelspec": {
   "display_name": "llms",
   "language": "python",
   "name": "python3"
  },
  "language_info": {
   "codemirror_mode": {
    "name": "ipython",
    "version": 3
   },
   "file_extension": ".py",
   "mimetype": "text/x-python",
   "name": "python",
   "nbconvert_exporter": "python",
   "pygments_lexer": "ipython3",
   "version": "3.11.13"
  }
 },
 "nbformat": 4,
 "nbformat_minor": 5
}
